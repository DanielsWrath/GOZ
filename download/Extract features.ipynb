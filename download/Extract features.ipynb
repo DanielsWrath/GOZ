{
 "cells": [
  {
   "cell_type": "code",
   "execution_count": null,
   "metadata": {},
   "outputs": [],
   "source": [
    "from features import transform, extract, ImageFolder\n",
    "\n",
    "from torchvision.models import resnet50\n",
    "import nonechucks as nc"
   ]
  },
  {
   "cell_type": "markdown",
   "metadata": {},
   "source": [
    "# Extract downloaded test images to test feature file\n",
    "\n",
    "If you downloaded the test split images using the \"Download images.ipynbextract(model, dl, out_file) notebook, you can directly extract their feature representations to the \"../data/visuals/features/test.h5\" location. \n",
    "\n",
    "This location is used to read in test features by the notebooks in the benchmark folder"
   ]
  },
  {
   "cell_type": "code",
   "execution_count": 3,
   "metadata": {},
   "outputs": [],
   "source": [
    "input_dir = \"../data/visuals/images/test\"\n",
    "out_file  = \"../data/visuals/features/test.h5\"\n",
    "\n",
    "batch_size  = 128\n",
    "num_workers = 12"
   ]
  },
  {
   "cell_type": "code",
   "execution_count": null,
   "metadata": {},
   "outputs": [],
   "source": [
    "ds = ImageFolder(input_dir, transform=transform, exclude=None)\n",
    "model = resnet50(pretrained=True).cuda().eval()\n",
    "ds = nc.SafeDataset(ds)\n",
    "dl = nc.SafeDataLoader(ds, batch_size=batch_size, num_workers=num_workers, pin_memory=True)"
   ]
  },
  {
   "cell_type": "code",
   "execution_count": 8,
   "metadata": {},
   "outputs": [
    {
     "name": "stdout",
     "output_type": "stream",
     "text": [
      "<KeysViewHDF5 ['n00141669', 'n00440747', 'n00445055']>\n"
     ]
    }
   ],
   "source": [
    "import h5py\n",
    "with h5py.File(out_file) as f:\n",
    "    print(f[\"idx\"].keys())"
   ]
  },
  {
   "cell_type": "markdown",
   "metadata": {},
   "source": [
    "# Extract downloaded imagenet images to imagenet feature file\n",
    "\n",
    "If you downloaded random Imagenet classes subsets using the \"Download images.ipynbextract(model, dl, out_file) notebook, you can directly extract their feature representations to the \"../data/visuals/features/imagenet.h5\" location. "
   ]
  },
  {
   "cell_type": "code",
   "execution_count": null,
   "metadata": {},
   "outputs": [],
   "source": [
    "input_dir = \"../data/visuals/images/test\"\n",
    "out_file  = \"../data/visuals/features/test.h5\"\n",
    "\n",
    "batch_size  = 128\n",
    "num_workers = 12"
   ]
  },
  {
   "cell_type": "code",
   "execution_count": null,
   "metadata": {},
   "outputs": [],
   "source": [
    "ds = ImageFolder(input_dir, transform=transform, exclude=None)\n",
    "model = resnet50(pretrained=True).cuda().eval()\n",
    "ds = nc.SafeDataset(ds)\n",
    "dl = nc.SafeDataLoader(ds, batch_size=batch_size, num_workers=num_workers, pin_memory=True)"
   ]
  },
  {
   "cell_type": "code",
   "execution_count": null,
   "metadata": {},
   "outputs": [],
   "source": [
    "extract(model, dl, out_file)"
   ]
  },
  {
   "cell_type": "code",
   "execution_count": null,
   "metadata": {},
   "outputs": [],
   "source": []
  }
 ],
 "metadata": {
  "kernelspec": {
   "display_name": "Python 3",
   "language": "python",
   "name": "python3"
  },
  "language_info": {
   "codemirror_mode": {
    "name": "ipython",
    "version": 3
   },
   "file_extension": ".py",
   "mimetype": "text/x-python",
   "name": "python",
   "nbconvert_exporter": "python",
   "pygments_lexer": "ipython3",
   "version": "3.6.8"
  }
 },
 "nbformat": 4,
 "nbformat_minor": 2
}
