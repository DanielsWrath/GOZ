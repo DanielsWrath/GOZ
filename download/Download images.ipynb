{
 "cells": [
  {
   "cell_type": "markdown",
   "metadata": {},
   "source": [
    "# Download images of the GOZ training split"
   ]
  },
  {
   "cell_type": "markdown",
   "metadata": {},
   "source": [
    "The training split consists of the original ILSVRC 2012 classification challenge dataset.\n",
    "You can directly download it from http://image-net.org/download-images\n",
    "\n",
    "In addition to the training images, the validatition set of the ILSVRC dataset are used as test samples of the training class in the Generalized ZSL setting.\n",
    "\n",
    "Hence, if you are interested in the G-ZSL setting, you will need to refactor the validation folder of the ILSVRC into a class-wise folder organization."
   ]
  },
  {
   "cell_type": "markdown",
   "metadata": {},
   "source": [
    "# Download images of the GOZ test split"
   ]
  },
  {
   "cell_type": "markdown",
   "metadata": {},
   "source": [
    "You can download the original images of the test split using the below script\n",
    "\n",
    "However, as described in the README, many urls have gone down so you will not be able to download the full training set\n",
    "\n",
    "Using the below snippet, some test classes may end up with only 70 images instead of 100.\n",
    "\n",
    "We are currently looking for a stable hosting solution to make the original images available via a stable download link"
   ]
  },
  {
   "cell_type": "code",
   "execution_count": null,
   "metadata": {},
   "outputs": [],
   "source": [
    "import pickle\n",
    "from helpers import load_image_list, download_test_images"
   ]
  },
  {
   "cell_type": "code",
   "execution_count": null,
   "metadata": {},
   "outputs": [],
   "source": [
    "url_path      = \"../data/downloads/goz_v1_urls.txt\"\n",
    "output_folder = \"../data/visuals/images/test\"\n",
    "\n",
    "nprocess=20"
   ]
  },
  {
   "cell_type": "code",
   "execution_count": null,
   "metadata": {},
   "outputs": [],
   "source": [
    "dico = load_image_list(url_path)"
   ]
  },
  {
   "cell_type": "code",
   "execution_count": null,
   "metadata": {},
   "outputs": [],
   "source": [
    "download_test_images(output_folder, dico, nprocess=nprocess)"
   ]
  },
  {
   "cell_type": "markdown",
   "metadata": {},
   "source": [
    "# Download any Imagenet subset"
   ]
  },
  {
   "cell_type": "markdown",
   "metadata": {},
   "source": [
    "The below snippet will let you download any subset of the Imagenet dataset.\n",
    "\n",
    "Before running the below code, make sure you executed the imagenet_urls.sh script or uncomment the following cell to execute the script directly from this notebook."
   ]
  },
  {
   "cell_type": "code",
   "execution_count": 2,
   "metadata": {},
   "outputs": [],
   "source": [
    "#!bash ./imagenet_urls.sh"
   ]
  },
  {
   "cell_type": "code",
   "execution_count": null,
   "metadata": {},
   "outputs": [],
   "source": [
    "url_path      = \"../data/downloads/full_imagenet_urls.txt\"\n",
    "output_folder = \"../data/visuals/images/imagenet\"\n",
    "\n",
    "nprocess=20"
   ]
  },
  {
   "cell_type": "code",
   "execution_count": null,
   "metadata": {},
   "outputs": [],
   "source": [
    "dico = load_image_list(url_path)"
   ]
  },
  {
   "cell_type": "markdown",
   "metadata": {},
   "source": [
    "By default, dico contains the urls of the full Imagenet dataset.\n",
    "\n",
    "You can filter a specific set of classes usingthe following snippet.\n",
    "\n",
    "Otherwise, the full dataset will be downloaded"
   ]
  },
  {
   "cell_type": "code",
   "execution_count": null,
   "metadata": {},
   "outputs": [],
   "source": [
    "wnids= {'n00141669', 'n00440747','n00445055'}\n",
    "dico = {k:v for k,v in dico.items() if k in wnids}"
   ]
  },
  {
   "cell_type": "code",
   "execution_count": null,
   "metadata": {},
   "outputs": [],
   "source": [
    "download_test_images(output_folder, dico, nprocess=nprocess)"
   ]
  },
  {
   "cell_type": "code",
   "execution_count": null,
   "metadata": {},
   "outputs": [],
   "source": []
  }
 ],
 "metadata": {
  "kernelspec": {
   "display_name": "Python 3",
   "language": "python",
   "name": "python3"
  },
  "language_info": {
   "codemirror_mode": {
    "name": "ipython",
    "version": 3
   },
   "file_extension": ".py",
   "mimetype": "text/x-python",
   "name": "python",
   "nbconvert_exporter": "python",
   "pygments_lexer": "ipython3",
   "version": "3.6.8"
  }
 },
 "nbformat": 4,
 "nbformat_minor": 2
}
