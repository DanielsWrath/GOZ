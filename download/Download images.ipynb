{
 "cells": [
  {
   "cell_type": "markdown",
   "metadata": {},
   "source": [
    "Download the original images of the test split\n",
    "\n",
    "The training split consists of the original ILSVRC 2012 classification challenge dataset.\n",
    "You can directly download it from http://image-net.org/download-images\n",
    "\n",
    "In addition to the training images, the validatition set of the ILSVRC dataset are used as test samples of the training class in the Generalized ZSL setting.\n",
    "\n",
    "Hence, if you are interested in the G-ZSL setting, you will need to refactor the validation folder of the ILSVRC into a class-wise folder organization."
   ]
  },
  {
   "cell_type": "code",
   "execution_count": 1,
   "metadata": {},
   "outputs": [],
   "source": [
    "from helpers import load_image_list, download_test_images"
   ]
  },
  {
   "cell_type": "code",
   "execution_count": 2,
   "metadata": {},
   "outputs": [],
   "source": [
    "url_path = \"../data/downloads/full_imagenet_urls.txt\"\n",
    "#url_path = \"../data/downloads/goz_v1_urls.txt\"\n",
    "#url_path = \"../\"\n",
    "\n",
    "output_folder = \"../data/visuals/test_images/\"\n",
    "output_folder = \"/media/tristan/260726b1-f8fa-4740-8707-2dd2b1d197fd/Imagenet/test_class_photos\""
   ]
  },
  {
   "cell_type": "code",
   "execution_count": 3,
   "metadata": {},
   "outputs": [
    {
     "name": "stderr",
     "output_type": "stream",
     "text": [
      "100%|██████████| 14197122/14197122 [00:18<00:00, 784367.16it/s]\n"
     ]
    }
   ],
   "source": [
    "dico = load_image_list(url_path)"
   ]
  },
  {
   "cell_type": "code",
   "execution_count": 5,
   "metadata": {},
   "outputs": [],
   "source": [
    "import pickle\n",
    "wnids=set(pickle.load(open(\"../data/splits/goz_v1\", \"rb\")))\n",
    "dico = {k:v for k,v in dico.items() if k in wnids}"
   ]
  },
  {
   "cell_type": "code",
   "execution_count": 6,
   "metadata": {},
   "outputs": [
    {
     "name": "stderr",
     "output_type": "stream",
     "text": [
      "100%|██████████| 500/500 [8:59:50<00:00, 59.20s/it]\n"
     ]
    }
   ],
   "source": [
    "download_test_images(output_folder, dico, nprocess=20)"
   ]
  },
  {
   "cell_type": "code",
   "execution_count": null,
   "metadata": {},
   "outputs": [],
   "source": []
  },
  {
   "cell_type": "code",
   "execution_count": null,
   "metadata": {},
   "outputs": [],
   "source": []
  },
  {
   "cell_type": "code",
   "execution_count": null,
   "metadata": {},
   "outputs": [],
   "source": []
  }
 ],
 "metadata": {
  "kernelspec": {
   "display_name": "Python 3",
   "language": "python",
   "name": "python3"
  },
  "language_info": {
   "codemirror_mode": {
    "name": "ipython",
    "version": 3
   },
   "file_extension": ".py",
   "mimetype": "text/x-python",
   "name": "python",
   "nbconvert_exporter": "python",
   "pygments_lexer": "ipython3",
   "version": "3.6.8"
  }
 },
 "nbformat": 4,
 "nbformat_minor": 2
}
