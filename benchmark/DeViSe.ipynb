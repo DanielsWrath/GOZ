{
 "cells": [
  {
   "cell_type": "code",
   "execution_count": 1,
   "metadata": {},
   "outputs": [],
   "source": [
    "from helpers import *\n",
    "import torch\n",
    "import torch.nn.functional as F\n",
    "import torch.nn as nn\n",
    "import numpy as np"
   ]
  },
  {
   "cell_type": "code",
   "execution_count": 2,
   "metadata": {},
   "outputs": [],
   "source": [
    "def sample(x, y, bs):\n",
    "    idx = np.random.choice(x.size(0), bs)\n",
    "    return x[idx].cuda(), y[idx].cuda()\n",
    "    \n",
    "def validate(x, s, model):\n",
    "    model.eval()\n",
    "    with torch.no_grad():\n",
    "        out = model(x)\n",
    "        out = out.mm(s.transpose(0,1))\n",
    "    return out\n",
    "        \n",
    "def train(x, y, s, model, opt, marg=.7, bs=500):\n",
    "    model.train()\n",
    "    idx = torch.arange(0, bs, dtype=torch.long, device=\"cuda\")\n",
    "    out  = model(x)\n",
    "    out = F.sigmoid(out.mm(s.t()))\n",
    "    val = out[idx, y].unsqueeze(1)\n",
    "    zeros = torch.zeros_like(val)\n",
    "    out = torch.max(zeros, marg-val+out)\n",
    "    loss = out.mean()\n",
    "    opt.zero_grad()\n",
    "    loss.backward()\n",
    "    opt.step()\n",
    "    return loss.item()\n",
    "\n",
    "def train_model(tr_feat, tr_lbl, tr_sem, te_feat, te_lbl, te_sem, k=5, bs=2000, nbatch=500, marg=.7, ):\n",
    "    vis_dim = tr_feat.size(1)\n",
    "    sem_dim = tr_sem.size(1)\n",
    "    n_class = tr_lbl.max() + 1\n",
    "    \n",
    "    model = nn.Linear(vis_dim, sem_dim, bias=False).cuda()\n",
    "    crit  = nn.CrossEntropyLoss()\n",
    "    opt   = torch.optim.Adam(model.parameters())\n",
    "    accs,losses  = [],[]\n",
    "    s_tr = tr_sem.cuda()\n",
    "    #x_te, y_te, s_te = te_feat.cuda(), te_lbl.cuda(), te_sem.cuda()\n",
    "    \n",
    "    for i in tqdm.tqdm(range(nbatch)):\n",
    "        x,y  = sample(tr_feat, tr_lbl, bs)\n",
    "        losses.append(train(x, y, s_tr, model, opt, marg=marg, bs=bs))#, base_idx)\n",
    "        #accs.append(validate(x_te, y_te, s_te, model))\n",
    "    \n",
    "    return model, losses, accs"
   ]
  },
  {
   "cell_type": "markdown",
   "metadata": {},
   "source": [
    "# Training"
   ]
  },
  {
   "cell_type": "code",
   "execution_count": 3,
   "metadata": {},
   "outputs": [
    {
     "name": "stderr",
     "output_type": "stream",
     "text": [
      "993it [01:57,  8.44it/s]\n",
      "  0%|          | 0/500 [00:00<?, ?it/s]/home/tristan/anaconda3/envs/torch1/lib/python3.6/site-packages/torch/nn/functional.py:1332: UserWarning: nn.functional.sigmoid is deprecated. Use torch.sigmoid instead.\n",
      "  warnings.warn(\"nn.functional.sigmoid is deprecated. Use torch.sigmoid instead.\")\n",
      "100%|██████████| 500/500 [00:04<00:00, 110.06it/s]\n"
     ]
    }
   ],
   "source": [
    "x_tr, y_tr, s_tr = load_train_set(norm_sem=True)\n",
    "model, losses, accs = train_model(x_tr, y_tr, s_tr, None, None, None)"
   ]
  },
  {
   "cell_type": "markdown",
   "metadata": {},
   "source": [
    "# Standard ZSL"
   ]
  },
  {
   "cell_type": "code",
   "execution_count": 4,
   "metadata": {},
   "outputs": [
    {
     "name": "stderr",
     "output_type": "stream",
     "text": [
      "500it [00:13, 37.28it/s]\n"
     ]
    },
    {
     "name": "stdout",
     "output_type": "stream",
     "text": [
      " 11.12 | 17.61 | 22.35 | 26.37 | 29.65 \n"
     ]
    }
   ],
   "source": [
    "x_te,y_te,s_te = load_test_set(generalized=False, norm_sem=True)\n",
    "out = validate(x_te.cuda(), s_te.cuda(), model)\n",
    "pp(topk(out, y_te.cuda()))"
   ]
  },
  {
   "cell_type": "markdown",
   "metadata": {},
   "source": [
    "# Generalized ZSL"
   ]
  },
  {
   "cell_type": "code",
   "execution_count": 5,
   "metadata": {},
   "outputs": [
    {
     "name": "stderr",
     "output_type": "stream",
     "text": [
      "1493it [00:20, 72.30it/s]\n"
     ]
    }
   ],
   "source": [
    "x_te,y_te,s_te = load_test_set(generalized=True, norm_sem=True)\n",
    "out = validate(x_te.cuda(), s_te.cuda(), model)"
   ]
  },
  {
   "cell_type": "code",
   "execution_count": 6,
   "metadata": {},
   "outputs": [
    {
     "name": "stdout",
     "output_type": "stream",
     "text": [
      " 7.08 | 13.32 | 17.74 | 21.86 | 25.66 \n"
     ]
    }
   ],
   "source": [
    "msk_test  = y_te<500\n",
    "msk_train = y_te>500\n",
    "\n",
    "train_accs = topk(out[msk_train], y_te[msk_train].cuda())\n",
    "test_accs  = topk(out[msk_test], y_te[msk_test].cuda())\n",
    "\n",
    "#pp(test_accs)\n",
    "#pp(train_accs)\n",
    "pp(h_scores(test_accs, train_accs))"
   ]
  },
  {
   "cell_type": "code",
   "execution_count": null,
   "metadata": {},
   "outputs": [],
   "source": []
  },
  {
   "cell_type": "code",
   "execution_count": null,
   "metadata": {},
   "outputs": [],
   "source": []
  },
  {
   "cell_type": "code",
   "execution_count": null,
   "metadata": {},
   "outputs": [],
   "source": []
  }
 ],
 "metadata": {
  "kernelspec": {
   "display_name": "Python 3",
   "language": "python",
   "name": "python3"
  },
  "language_info": {
   "codemirror_mode": {
    "name": "ipython",
    "version": 3
   },
   "file_extension": ".py",
   "mimetype": "text/x-python",
   "name": "python",
   "nbconvert_exporter": "python",
   "pygments_lexer": "ipython3",
   "version": "3.6.8"
  }
 },
 "nbformat": 4,
 "nbformat_minor": 2
}
