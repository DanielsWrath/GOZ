{
 "cells": [
  {
   "cell_type": "code",
   "execution_count": 1,
   "metadata": {},
   "outputs": [],
   "source": [
    "from helpers import *\n",
    "import torch"
   ]
  },
  {
   "cell_type": "code",
   "execution_count": 2,
   "metadata": {},
   "outputs": [],
   "source": [
    "def train_model(v_tr, s_tr, g=100, l=100, nsamp=None):\n",
    "    \n",
    "    nsamp = nsamp if nsamp else v_tr.size(0)//s_tr.size(0)\n",
    "    \n",
    "    xx = v_tr.t().mm(v_tr)\n",
    "    ss = s_tr.t().mm(s_tr)\n",
    "    \n",
    "    #s_tr = s_tr.unsqueeze(1).repeat(1,nsamp,1).view(-1, 300)\n",
    "    xs = v_tr.t().mm(s_tr)\n",
    "    \n",
    "    xx_inv = (xx + g * torch.eye(xx.size(0), dtype=torch.float32, device=\"cuda:0\")).inverse()\n",
    "    ss_inv = (ss + l * torch.eye(ss.size(0), dtype=torch.float32, device=\"cuda:0\")).inverse()\n",
    "    \n",
    "    return xx_inv.mm(xs).mm(ss_inv)\n",
    "\n",
    "def validate(v_te, s_te, w, k=5):\n",
    "    \"\"\"\n",
    "    \"\"\"\n",
    "    out = v_te.mm(w)\n",
    "    out = out.mm(s_te.t())\n",
    "    return out"
   ]
  },
  {
   "cell_type": "markdown",
   "metadata": {},
   "source": [
    "# Training"
   ]
  },
  {
   "cell_type": "code",
   "execution_count": 3,
   "metadata": {},
   "outputs": [
    {
     "name": "stderr",
     "output_type": "stream",
     "text": [
      "993it [01:17, 12.76it/s] \n"
     ]
    }
   ],
   "source": [
    "norm_sem=False\n",
    "x_tr,y_tr,s_tr=load_train_set(norm_sem=norm_sem)\n",
    "x_tr = torch.cat([x.mean(0, keepdim=True) for x in torch.chunk(x_tr, 993)])\n",
    "w = train_model(x_tr.cuda(), s_tr.cuda())"
   ]
  },
  {
   "cell_type": "markdown",
   "metadata": {},
   "source": [
    "# Standard ZSL"
   ]
  },
  {
   "cell_type": "code",
   "execution_count": 4,
   "metadata": {},
   "outputs": [
    {
     "name": "stderr",
     "output_type": "stream",
     "text": [
      "500it [00:00, 1348.73it/s]\n"
     ]
    },
    {
     "name": "stdout",
     "output_type": "stream",
     "text": [
      " 13.54 | 20.44 | 25.43 | 29.24 | 32.61 \n"
     ]
    }
   ],
   "source": [
    "x_te,y_te,s_te = load_test_set(norm_sem=norm_sem, generalized=False)\n",
    "out = validate(x_te.cuda(), s_te.cuda(),  w)\n",
    "test_accs = topk(out, y_te.cuda())\n",
    "pp(test_accs)"
   ]
  },
  {
   "cell_type": "markdown",
   "metadata": {},
   "source": [
    "# Generalized ZSL"
   ]
  },
  {
   "cell_type": "code",
   "execution_count": 5,
   "metadata": {},
   "outputs": [
    {
     "name": "stderr",
     "output_type": "stream",
     "text": [
      "1493it [00:00, 1914.94it/s]\n"
     ]
    }
   ],
   "source": [
    "x_te, y_te, s_te = load_test_set(norm_sem=norm_sem, generalized=True)\n",
    "out = validate(x_te.cuda(), s_te.cuda(), w)"
   ]
  },
  {
   "cell_type": "code",
   "execution_count": 6,
   "metadata": {},
   "outputs": [
    {
     "name": "stdout",
     "output_type": "stream",
     "text": [
      " 2.43 | 6.16 | 9.47 | 12.66 | 15.46 \n"
     ]
    }
   ],
   "source": [
    "msk_test  = y_te < 500\n",
    "test_accs = topk(out[msk_test], y_te[msk_test].cuda())\n",
    "pp(test_accs)"
   ]
  },
  {
   "cell_type": "code",
   "execution_count": 8,
   "metadata": {},
   "outputs": [
    {
     "name": "stdout",
     "output_type": "stream",
     "text": [
      " 42.98 | 57.01 | 64.74 | 69.62 | 73.06 \n"
     ]
    }
   ],
   "source": [
    "msk_train = y_te > 500\n",
    "train_accs = topk(out[msk_train], y_te[msk_train].cuda())\n",
    "pp(train_accs)"
   ]
  },
  {
   "cell_type": "code",
   "execution_count": 9,
   "metadata": {},
   "outputs": [
    {
     "name": "stdout",
     "output_type": "stream",
     "text": [
      " 4.59 | 11.12 | 16.53 | 21.42 | 25.53 \n"
     ]
    }
   ],
   "source": [
    "h_mean = h_scores(test_accs, train_accs)\n",
    "pp(h_mean)"
   ]
  }
 ],
 "metadata": {
  "kernelspec": {
   "display_name": "Python 3",
   "language": "python",
   "name": "python3"
  },
  "language_info": {
   "codemirror_mode": {
    "name": "ipython",
    "version": 3
   },
   "file_extension": ".py",
   "mimetype": "text/x-python",
   "name": "python",
   "nbconvert_exporter": "python",
   "pygments_lexer": "ipython3",
   "version": "3.6.8"
  }
 },
 "nbformat": 4,
 "nbformat_minor": 2
}
