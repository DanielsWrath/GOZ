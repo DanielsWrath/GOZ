{
 "cells": [
  {
   "cell_type": "code",
   "execution_count": 1,
   "metadata": {},
   "outputs": [],
   "source": [
    "from helpers import *\n",
    "\n",
    "import tqdm\n",
    "import numpy as np\n",
    "\n",
    "import torch.nn as nn\n",
    "import torch.nn.functional as F\n",
    "import torch"
   ]
  },
  {
   "cell_type": "code",
   "execution_count": 2,
   "metadata": {},
   "outputs": [],
   "source": [
    "def sample(x, y, bs):\n",
    "    idx = np.random.choice(x.size(0), bs)\n",
    "    return x[idx].cuda(), y[idx].cuda()\n",
    "    \n",
    "def train_model(tr_feat, tr_lbl, te_feat, te_lbl, k=5, bs=2000, nbatch=500):\n",
    "    \"\"\"\n",
    "    \"\"\"\n",
    "    vis_dim = tr_feat.size(1)\n",
    "    n_class = tr_lbl.max() + 1\n",
    "    \n",
    "    model = nn.Linear(vis_dim, n_class, bias=False).cuda()\n",
    "    crit  = nn.CrossEntropyLoss()\n",
    "    opt   = torch.optim.Adam(model.parameters())\n",
    "    accs,losses  = [],[]\n",
    "    \n",
    "    for i in tqdm.tqdm(range(1,nbatch+1)):\n",
    "        x,y  = sample(tr_feat, tr_lbl, bs)\n",
    "        losses.append(train(x, y, model, crit, opt))#, base_idx)\n",
    "        accs.append(validate(te_feat, te_lbl, model))\n",
    "        \n",
    "    return model, losses, accs\n",
    "\n",
    "def train(tr, lbl, model, crit, opt, base_idx=None):\n",
    "    \"\"\"\n",
    "    \"\"\"\n",
    "    opt.zero_grad()\n",
    "    out  = model(tr)\n",
    "    loss = crit(out, lbl)\n",
    "    loss.backward()\n",
    "    opt.step()\n",
    "    return loss.item()\n",
    "\n",
    "def validate(feat, lbl, model, k=5):\n",
    "    \"\"\"\n",
    "    \"\"\"\n",
    "    out = model(feat).topk(k)[1]\n",
    "    return (out == lbl.unsqueeze(1)).float().sum(1).mean().item()\n",
    "\n",
    "def scores_cons(v_te, s_te, s_tr, w, k=5):\n",
    "    a,b = torch.nn.Softmax(-1)(w(v_te)).topk(k)\n",
    "    out = F.normalize((a.unsqueeze(-1) * s_tr[b]).mean(1))\n",
    "    return  out.mm(s_te.t())"
   ]
  },
  {
   "cell_type": "markdown",
   "metadata": {},
   "source": [
    "# Training"
   ]
  },
  {
   "cell_type": "code",
   "execution_count": 3,
   "metadata": {},
   "outputs": [
    {
     "name": "stderr",
     "output_type": "stream",
     "text": [
      "993it [00:51, 19.41it/s]\n",
      "1000it [00:17, 58.01it/s]\n",
      "100%|██████████| 500/500 [00:22<00:00, 22.66it/s]\n"
     ]
    }
   ],
   "source": [
    "x_tr, y_tr, s_tr = load_train_set(norm_sem=True)\n",
    "tenodes = pickle.load(open(train_split, \"rb\"))\n",
    "\n",
    "x_val, y_val = load_visuals(tenodes, test_feature_path)\n",
    "model, losses, accs = train_model(x_tr, y_tr, x_val.cuda(), y_val.cuda())"
   ]
  },
  {
   "cell_type": "markdown",
   "metadata": {},
   "source": [
    "# Standard ZSL"
   ]
  },
  {
   "cell_type": "code",
   "execution_count": 4,
   "metadata": {},
   "outputs": [
    {
     "name": "stderr",
     "output_type": "stream",
     "text": [
      "500it [00:06, 79.14it/s] \n"
     ]
    }
   ],
   "source": [
    "x_te,y_te,s_te = load_test_set(generalized=False, norm_sem=True)"
   ]
  },
  {
   "cell_type": "code",
   "execution_count": 5,
   "metadata": {},
   "outputs": [
    {
     "name": "stdout",
     "output_type": "stream",
     "text": [
      " 10.65 | 15.83 | 19.69 | 22.75 | 25.10 \n"
     ]
    }
   ],
   "source": [
    "out=scores_cons(x_te.cuda(), s_te.cuda(), s_tr.cuda(), model)\n",
    "test_accs = topk(out, y_te.cuda())\n",
    "pp(test_accs)"
   ]
  },
  {
   "cell_type": "markdown",
   "metadata": {},
   "source": [
    "# Generalized ZSL"
   ]
  },
  {
   "cell_type": "code",
   "execution_count": 6,
   "metadata": {},
   "outputs": [
    {
     "name": "stderr",
     "output_type": "stream",
     "text": [
      "1493it [00:00, 1857.07it/s]\n"
     ]
    }
   ],
   "source": [
    "x_te,y_te,s_te=load_test_set(generalized=True, norm_sem=True)"
   ]
  },
  {
   "cell_type": "code",
   "execution_count": 7,
   "metadata": {},
   "outputs": [
    {
     "name": "stdout",
     "output_type": "stream",
     "text": [
      " 0.06 | 4.35 | 6.92 | 9.00 | 10.91 \n"
     ]
    }
   ],
   "source": [
    "msk_test  = y_te<500\n",
    "out=scores_cons(x_te.cuda(), s_te.cuda(), s_tr.cuda(), model)\n",
    "test_accs = topk(out[msk_test], y_te[msk_test].cuda())\n",
    "pp(test_accs)"
   ]
  },
  {
   "cell_type": "code",
   "execution_count": 8,
   "metadata": {},
   "outputs": [
    {
     "name": "stdout",
     "output_type": "stream",
     "text": [
      " 73.48 | 80.35 | 82.57 | 83.86 | 84.79 \n"
     ]
    }
   ],
   "source": [
    "msk_train = y_te>500\n",
    "out=scores_cons(x_te.cuda(), s_te.cuda(), s_tr.cuda(), model)\n",
    "train_accs = topk(out[msk_train], y_te[msk_train].cuda())\n",
    "pp(train_accs)"
   ]
  },
  {
   "cell_type": "code",
   "execution_count": 9,
   "metadata": {},
   "outputs": [
    {
     "name": "stdout",
     "output_type": "stream",
     "text": [
      " 0.12 | 8.25 | 12.77 | 16.26 | 19.34 \n"
     ]
    }
   ],
   "source": [
    "pp(h_scores(test_accs, train_accs))"
   ]
  },
  {
   "cell_type": "code",
   "execution_count": null,
   "metadata": {},
   "outputs": [],
   "source": []
  }
 ],
 "metadata": {
  "kernelspec": {
   "display_name": "Python 3",
   "language": "python",
   "name": "python3"
  },
  "language_info": {
   "codemirror_mode": {
    "name": "ipython",
    "version": 3
   },
   "file_extension": ".py",
   "mimetype": "text/x-python",
   "name": "python",
   "nbconvert_exporter": "python",
   "pygments_lexer": "ipython3",
   "version": "3.6.8"
  }
 },
 "nbformat": 4,
 "nbformat_minor": 2
}
