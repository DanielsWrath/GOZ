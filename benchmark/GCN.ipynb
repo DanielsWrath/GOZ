{
 "cells": [
  {
   "cell_type": "code",
   "execution_count": 1,
   "metadata": {},
   "outputs": [],
   "source": [
    "from helpers import *\n",
    "import pickle\n",
    "import pandas as pd\n",
    "import torch\n",
    "import torch.nn.functional as F"
   ]
  },
  {
   "cell_type": "code",
   "execution_count": 2,
   "metadata": {},
   "outputs": [],
   "source": [
    "def load_model(model=\"gcn_2\", split=\"train\"):\n",
    "    assert model in [\"gcn_2\", \"gcn_6\", \"adgpm\"]\n",
    "    assert split in [\"train\", \"goz_v1\", \"generalized\"]\n",
    "    if split == \"generalized\":\n",
    "        nodes = pickle.load(open(\"../data/splits/goz_v1\".format(split), \"rb\")) +\\\n",
    "                pickle.load(open(\"../data/splits/train\".format(split), \"rb\"))\n",
    "    else:\n",
    "        nodes = pickle.load(open(\"../data/splits/{}\".format(split), \"rb\"))\n",
    "    df = pd.read_pickle(\"../data/models/{}\".format(model))\n",
    "    w  = torch.from_numpy(df.loc[nodes].values[:,:-1]).t().cuda()\n",
    "    return w\n",
    "    \n",
    "def validate(x, w):\n",
    "    \"\"\"\n",
    "    \"\"\"\n",
    "    return F.softmax(x.cuda().mm(w), dim=-1)"
   ]
  },
  {
   "cell_type": "markdown",
   "metadata": {},
   "source": [
    "# Standard ZSL"
   ]
  },
  {
   "cell_type": "code",
   "execution_count": 3,
   "metadata": {},
   "outputs": [
    {
     "name": "stderr",
     "output_type": "stream",
     "text": [
      "500it [00:13, 37.85it/s]\n"
     ]
    }
   ],
   "source": [
    "x_te,y_te,s_te=load_test_set(generalized=False)"
   ]
  },
  {
   "cell_type": "code",
   "execution_count": 4,
   "metadata": {},
   "outputs": [
    {
     "name": "stdout",
     "output_type": "stream",
     "text": [
      " 14.09 | 21.66 | 27.34 | 31.79 | 35.12 \n"
     ]
    }
   ],
   "source": [
    "w = load_model(model=\"gcn_2\", split=\"goz_v1\")\n",
    "out = validate(x_te, w)\n",
    "pp(topk(out, y_te.cuda()))"
   ]
  },
  {
   "cell_type": "code",
   "execution_count": 5,
   "metadata": {},
   "outputs": [
    {
     "name": "stdout",
     "output_type": "stream",
     "text": [
      " 9.58 | 15.66 | 20.33 | 24.05 | 27.19 \n"
     ]
    }
   ],
   "source": [
    "w = load_model(model=\"gcn_6\", split=\"goz_v1\")\n",
    "out = validate(x_te, w)\n",
    "pp(topk(out, y_te.cuda()))"
   ]
  },
  {
   "cell_type": "code",
   "execution_count": 6,
   "metadata": {},
   "outputs": [
    {
     "name": "stdout",
     "output_type": "stream",
     "text": [
      " 14.10 | 22.21 | 28.12 | 32.52 | 36.03 \n"
     ]
    }
   ],
   "source": [
    "w = load_model(model=\"adgpm\", split=\"goz_v1\")\n",
    "out = validate(x_te, w)\n",
    "pp(topk(out, y_te.cuda()))"
   ]
  },
  {
   "cell_type": "markdown",
   "metadata": {},
   "source": [
    "# Generalized ZSL"
   ]
  },
  {
   "cell_type": "code",
   "execution_count": 7,
   "metadata": {},
   "outputs": [
    {
     "name": "stderr",
     "output_type": "stream",
     "text": [
      "/media/tristan/Samsung_T5/workspace/GOZ/benchmark/helpers.py:43: FutureWarning: \n",
      "Passing list-likes to .loc or [] with any missing label will raise\n",
      "KeyError in the future, you can use .reindex() as an alternative.\n",
      "\n",
      "See the documentation here:\n",
      "https://pandas.pydata.org/pandas-docs/stable/indexing.html#deprecate-loc-reindex-listlike\n",
      "  x  = df.loc[list(nodes)].fillna(0).values\n",
      "1500it [00:01, 1004.55it/s]\n"
     ]
    }
   ],
   "source": [
    "x_te,y_te,s_te=load_test_set(generalized=True, filter_out=False)"
   ]
  },
  {
   "cell_type": "code",
   "execution_count": 8,
   "metadata": {},
   "outputs": [
    {
     "name": "stdout",
     "output_type": "stream",
     "text": [
      " 4.96 | 12.83 | 19.82 | 25.44 | 30.35 \n"
     ]
    }
   ],
   "source": [
    "w = load_model(model=\"gcn_2\", split=\"generalized\")\n",
    "out = validate(x_te, w)\n",
    "msk_test  = y_te<500\n",
    "msk_train = y_te>500\n",
    "\n",
    "test_accs  = topk(out[msk_test], y_te[msk_test].cuda())\n",
    "train_accs = topk(out[msk_train], y_te[msk_train].cuda())\n",
    "h_mean = h_scores(test_accs, train_accs)\n",
    "\n",
    "pp(h_mean)"
   ]
  },
  {
   "cell_type": "code",
   "execution_count": 9,
   "metadata": {},
   "outputs": [
    {
     "name": "stdout",
     "output_type": "stream",
     "text": [
      " 4.81 | 10.16 | 14.93 | 19.26 | 23.35 \n"
     ]
    }
   ],
   "source": [
    "w = load_model(model=\"gcn_6\", split=\"generalized\")\n",
    "out = validate(x_te, w)\n",
    "msk_test  = y_te<500\n",
    "msk_train = y_te>500\n",
    "\n",
    "test_accs  = topk(out[msk_test], y_te[msk_test].cuda())\n",
    "train_accs = topk(out[msk_train], y_te[msk_train].cuda())\n",
    "h_mean = h_scores(test_accs, train_accs)\n",
    "\n",
    "pp(h_mean)"
   ]
  },
  {
   "cell_type": "code",
   "execution_count": 10,
   "metadata": {},
   "outputs": [
    {
     "name": "stdout",
     "output_type": "stream",
     "text": [
      " 4.90 | 12.27 | 19.05 | 24.97 | 29.96 \n"
     ]
    }
   ],
   "source": [
    "w = load_model(model=\"adgpm\", split=\"generalized\")\n",
    "out = validate(x_te, w)\n",
    "msk_test  = y_te<500\n",
    "msk_train = y_te>500\n",
    "\n",
    "test_accs  = topk(out[msk_test], y_te[msk_test].cuda())\n",
    "train_accs = topk(out[msk_train], y_te[msk_train].cuda())\n",
    "h_mean = h_scores(test_accs, train_accs)\n",
    "\n",
    "pp(h_mean)"
   ]
  },
  {
   "cell_type": "code",
   "execution_count": null,
   "metadata": {},
   "outputs": [],
   "source": []
  }
 ],
 "metadata": {
  "kernelspec": {
   "display_name": "Python 3",
   "language": "python",
   "name": "python3"
  },
  "language_info": {
   "codemirror_mode": {
    "name": "ipython",
    "version": 3
   },
   "file_extension": ".py",
   "mimetype": "text/x-python",
   "name": "python",
   "nbconvert_exporter": "python",
   "pygments_lexer": "ipython3",
   "version": "3.6.8"
  }
 },
 "nbformat": 4,
 "nbformat_minor": 2
}
